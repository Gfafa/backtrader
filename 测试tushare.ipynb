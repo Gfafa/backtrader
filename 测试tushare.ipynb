{
 "cells": [
  {
   "cell_type": "code",
   "execution_count": 3,
   "metadata": {},
   "outputs": [],
   "source": [
    "import tushare as ts\n",
    "ts.set_token('bcdcd7446a8a71251e4d8d0fc6d4709400a27384ae370a879dcfffd3')\n",
    "pro = ts.pro_api()\n",
    "df = pro.query('stock_basic', exchange='', start_date='20180901', end_date='20181001', fields='ts_code,symbol,name,area,industry,list_date')"
   ]
  },
  {
   "cell_type": "code",
   "execution_count": 4,
   "metadata": {},
   "outputs": [
    {
     "name": "stdout",
     "output_type": "stream",
     "text": [
      "        ts_code  symbol     name area industry list_date\n",
      "0     000001.SZ  000001     平安银行   深圳       银行  19910403\n",
      "1     000002.SZ  000002      万科A   深圳     全国地产  19910129\n",
      "2     000004.SZ  000004     国华网安   深圳     软件服务  19910114\n",
      "3     000005.SZ  000005     ST星源   深圳     环境保护  19901210\n",
      "4     000006.SZ  000006     深振业A   深圳     区域地产  19920427\n",
      "...         ...     ...      ...  ...      ...       ...\n",
      "5332  873693.BJ  873693      阿为特   上海     机械基件  20231027\n",
      "5333  873703.BJ  873703     广厦环能   北京     专用机械  20231205\n",
      "5334  873726.BJ  873726     卓兆点胶   江苏     机械基件  20231019\n",
      "5335  873833.BJ  873833     美心翼申   重庆     汽车配件  20231108\n",
      "5336  689009.SH  689009  九号公司-WD   北京      摩托车  20201029\n",
      "\n",
      "[5337 rows x 6 columns]\n"
     ]
    }
   ],
   "source": [
    "print(df)"
   ]
  },
  {
   "cell_type": "code",
   "execution_count": 6,
   "metadata": {},
   "outputs": [
    {
     "ename": "IndentationError",
     "evalue": "unindent does not match any outer indentation level (<tokenize>, line 8)",
     "output_type": "error",
     "traceback": [
      "\u001b[1;36m  File \u001b[1;32m<tokenize>:8\u001b[1;36m\u001b[0m\n\u001b[1;33m    except:\u001b[0m\n\u001b[1;37m    ^\u001b[0m\n\u001b[1;31mIndentationError\u001b[0m\u001b[1;31m:\u001b[0m unindent does not match any outer indentation level\n"
     ]
    }
   ],
   "source": [
    "def get_daily(self, ts_code='', trade_date='', start_date='', end_date=''):\n",
    "    for _ in range(3):\n",
    "        try:\n",
    "            if trade_date:\n",
    "                df = self.pro.daily(ts_code=ts_code, trade_date=trade_date)\n",
    "            else:\n",
    "                df = self.pro.daily(ts_code=ts_code, start_date=start_date, end_date=end_date)\n",
    "        except:\n",
    "            time.sleep(1)\n",
    "            \n",
    "            return df"
   ]
  },
  {
   "cell_type": "code",
   "execution_count": 8,
   "metadata": {},
   "outputs": [
    {
     "name": "stdout",
     "output_type": "stream",
     "text": [
      "       ts_code trade_date    open    high     low   close  pre_close  change  \\\n",
      "0    688561.SH   20240109   35.33   35.54   34.35   34.72      35.12   -0.40   \n",
      "1    688561.SH   20240108   36.61   36.75   35.09   35.12      36.81   -1.69   \n",
      "2    688561.SH   20240105   37.49   38.18   36.54   36.81      37.40   -0.59   \n",
      "3    688561.SH   20240104   38.43   38.48   37.25   37.40      38.38   -0.98   \n",
      "4    688561.SH   20240103   38.78   39.15   38.13   38.38      38.85   -0.47   \n",
      "..         ...        ...     ...     ...     ...     ...        ...     ...   \n",
      "839  688561.SH   20200728  116.00  119.50  110.82  119.22     117.00    2.22   \n",
      "840  688561.SH   20200727  132.53  135.94  113.20  117.00     131.72  -14.72   \n",
      "841  688561.SH   20200724  129.08  135.99  126.50  131.72     131.00    0.72   \n",
      "842  688561.SH   20200723  140.00  142.66  128.18  131.00     133.55   -2.55   \n",
      "843  688561.SH   20200722  121.01  142.50  110.00  133.55      56.10   77.45   \n",
      "\n",
      "      pct_chg        vol       amount  \n",
      "0     -1.1390   42115.46   146986.145  \n",
      "1     -4.5911   37403.60   133309.568  \n",
      "2     -1.5775   39214.72   145951.269  \n",
      "3     -2.5534   35415.47   133426.110  \n",
      "4     -1.2098   26062.11   100437.878  \n",
      "..        ...        ...          ...  \n",
      "839    1.8974  117356.57  1344875.731  \n",
      "840  -11.1752  152380.53  1892137.300  \n",
      "841    0.5496  154786.29  2034614.385  \n",
      "842   -1.9094  223948.35  3035168.603  \n",
      "843  138.0570  450900.63  5707286.768  \n",
      "\n",
      "[844 rows x 11 columns]\n"
     ]
    }
   ],
   "source": [
    "df = pro.query('daily', ts_code='688561.SH')\n",
    "print(df)"
   ]
  }
 ],
 "metadata": {
  "kernelspec": {
   "display_name": "base",
   "language": "python",
   "name": "python3"
  },
  "language_info": {
   "codemirror_mode": {
    "name": "ipython",
    "version": 3
   },
   "file_extension": ".py",
   "mimetype": "text/x-python",
   "name": "python",
   "nbconvert_exporter": "python",
   "pygments_lexer": "ipython3",
   "version": "3.8.3"
  }
 },
 "nbformat": 4,
 "nbformat_minor": 2
}
